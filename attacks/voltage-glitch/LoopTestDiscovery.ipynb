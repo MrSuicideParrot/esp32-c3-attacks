{
 "cells": [
  {
   "cell_type": "markdown",
   "id": "156828ac",
   "metadata": {},
   "source": [
    "# Loop test for parameter discovery\n",
    "\n",
    "Before perfoming a voltage attack, the attacker must discover the parameters that increase their success probability.\n",
    "\n",
    "First, we need to initialize the chipwhisper nano that will be responsible for reseting the board whenever it is necessary and the serial connection."
   ]
  },
  {
   "cell_type": "code",
   "execution_count": 1,
   "id": "fec339ad",
   "metadata": {},
   "outputs": [],
   "source": [
    "import chipwhisperer as cw\n",
    "import time \n",
    "\n",
    "try:\n",
    "    if not scope.connectStatus:\n",
    "        scope.con()\n",
    "except NameError:\n",
    "    scope = cw.scope()\n",
    "\n",
    "scope.default_setup()\n",
    "\n",
    "# Initialize the FT232H\n",
    "import serial\n",
    "ser = serial.Serial('/dev/ttyUSB0',baudrate=115200)\n",
    "\n",
    "# Function to reset the board\n",
    "def reset_board():\n",
    "    #Toggle reset\n",
    "    ser.reset_input_buffer()\n",
    "    scope.io.nrst = False\n",
    "    time.sleep(0.05)\n",
    "    scope.io.nrst = None #Pulls high by default\n",
    "    time.sleep(0.05)"
   ]
  },
  {
   "cell_type": "markdown",
   "id": "89fec39d",
   "metadata": {},
   "source": [
    "If during the test we remove and reconect the chipwhisper to the computer, we should run the following cell that will reconnect it."
   ]
  },
  {
   "cell_type": "code",
   "execution_count": 16,
   "id": "c373e263",
   "metadata": {
    "scrolled": false
   },
   "outputs": [
    {
     "data": {
      "text/plain": [
       "ChipWhisperer Nano Device\n",
       "fw_version = \n",
       "    major = 0\n",
       "    minor = 65\n",
       "    debug = 0\n",
       "io = \n",
       "    tio1         = None\n",
       "    tio2         = None\n",
       "    tio3         = None\n",
       "    tio4         = high_z\n",
       "    pdid         = True\n",
       "    pdic         = False\n",
       "    nrst         = True\n",
       "    clkout       = 0\n",
       "    cdc_settings = bytearray(b'\\x01\\x00\\x00\\x00')\n",
       "adc = \n",
       "    clk_src  = int\n",
       "    clk_freq = 0\n",
       "    samples  = 100000\n",
       "glitch = \n",
       "    repeat     = 0\n",
       "    ext_offset = 0"
      ]
     },
     "execution_count": 16,
     "metadata": {},
     "output_type": "execute_result"
    }
   ],
   "source": [
    "scope.dis()\n",
    "scope.con()\n",
    "scope"
   ]
  },
  {
   "cell_type": "markdown",
   "id": "f3385335",
   "metadata": {},
   "source": [
    "The following code will attempt different glitch widths and identify the ones that are able to glitch the device."
   ]
  },
  {
   "cell_type": "code",
   "execution_count": null,
   "id": "0386d6b6",
   "metadata": {},
   "outputs": [],
   "source": [
    "from tqdm.notebook import trange\n",
    "\n",
    "gc = cw.GlitchController(groups=[\"success\", \"reset\", \"normal\"], parameters=[\"width\"])\n",
    "gc.display_stats()\n",
    "\n",
    "g_step = 1\n",
    "gc.set_global_step(g_step)\n",
    "gc.set_range(\"width\", 1, 10)\n",
    "#gc.set_range(\"offset\", 500,) # 4.15 microseconds 8,3ns * 500  \n",
    "\n",
    "scope.vglitch_setup()\n",
    "scope.glitch.repeat = 0\n",
    "scope.glitch.ext_offset = 0\n",
    "\n",
    "for glitch_setting in gc.glitch_values():\n",
    "    scope.glitch.repeat = glitch_setting[0]\n",
    "    scope.glitch.ext_offset = 500\n",
    "    successes = 0\n",
    "    resets = 0\n",
    "    for i in range(3):\n",
    "        reset_board()\n",
    "        time.sleep(0.05)\n",
    "\n",
    "        buf = ser.read_until(b'Starting for\\r\\n')\n",
    "        print(buf)\n",
    "        scope.arm()\n",
    "        time.sleep(1)\n",
    "        ser.write(b'c')\n",
    "\n",
    "        # return True if capture timed out, false if it didn’t.\n",
    "        if scope.capture():\n",
    "            print(\"Capture failed!\")\n",
    "        else:\n",
    "            time.sleep(0.05)\n",
    "            while True:\n",
    "                buf = ser.readline()\n",
    "                #print(buf.decode())\n",
    "                if b'Normal' in buf:\n",
    "                    gc.add(\"normal\")\n",
    "                    #print(\"No glitch!:(\")\n",
    "                    break\n",
    "                elif b'Glitch!' in buf:\n",
    "                    print(\"Glitch!!\")\n",
    "                    print(buf)\n",
    "                    print()\n",
    "                    gc.add(\"success\")\n",
    "                    successes += 1\n",
    "                    break\n",
    "                elif b'Starting for' in buf:\n",
    "                    #print(\"Reset\")\n",
    "                    gc.add(\"reset\")\n",
    "                    resets += 1\n",
    "                    break                \n",
    "    if successes > 0:                \n",
    "        print(\"successes = {}, resets = {}, width = {}, ext_offset = {}\".format(successes, resets, scope.glitch.repeat, scope.glitch.ext_offset))\n",
    "\n",
    "print(\"Done glitching\")"
   ]
  }
 ],
 "metadata": {
  "kernelspec": {
   "display_name": "Python 3",
   "language": "python",
   "name": "python3"
  },
  "language_info": {
   "codemirror_mode": {
    "name": "ipython",
    "version": 3
   },
   "file_extension": ".py",
   "mimetype": "text/x-python",
   "name": "python",
   "nbconvert_exporter": "python",
   "pygments_lexer": "ipython3",
   "version": "3.10.8"
  },
  "vscode": {
   "interpreter": {
    "hash": "e7370f93d1d0cde622a1f8e1c04877d8463912d04d973331ad4851f04de6915a"
   }
  }
 },
 "nbformat": 4,
 "nbformat_minor": 5
}
